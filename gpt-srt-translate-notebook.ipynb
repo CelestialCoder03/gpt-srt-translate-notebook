{
 "cells": [
  {
   "cell_type": "markdown",
   "metadata": {},
   "source": [
    "# Load and preprocess"
   ]
  },
  {
   "cell_type": "code",
   "execution_count": 1,
   "metadata": {},
   "outputs": [],
   "source": [
    "# Settings\n",
    "fpath = \"demo.srt\" # path of the srt file\n",
    "batch_size = 20 # number of lines to translate per request\n",
    "TARGET_LANG = \"french\" # target language\n",
    "OPENAI_API_KEY = \"\" # openai api key"
   ]
  },
  {
   "cell_type": "code",
   "execution_count": 2,
   "metadata": {},
   "outputs": [],
   "source": [
    "ftype = \".\" + fpath.split(\".\")[-1]\n",
    "fname = fpath.split(\"/\")[-1].replace(ftype, \"\")\n",
    "\n",
    "with open(fpath, \"r\") as f:\n",
    "    contents = f.read()\n",
    "\n",
    "lines = contents.split(\"\\n\\n\")\n",
    "\n",
    "# transform subtitle text into a list of dict\n",
    "raw_subtitles = []\n",
    "id_to_time = {}\n",
    "\n",
    "for line in lines:\n",
    "    tmp = line.split(\"\\n\")\n",
    "    raw_subtitles.append({\"id\": tmp[0], \"text\": \"\\n\".join(tmp[2:])})\n",
    "    id_to_time[tmp[0]] = tmp[1]"
   ]
  },
  {
   "cell_type": "markdown",
   "metadata": {},
   "source": [
    "# Translate"
   ]
  },
  {
   "cell_type": "code",
   "execution_count": 3,
   "metadata": {},
   "outputs": [],
   "source": [
    "PROMPT = \"\"\"You are a professional translation engine.\n",
    "Please translate the text into {target_lang} without explanation.\n",
    "\n",
    "### Instructions\n",
    "1. The user will provide the original text in the form of a list.\n",
    "2. Each JSON object in the list will contain 'id' and the original text content 'text'.\n",
    "3. When translating each text, you must consider all the text within the entire list.\n",
    "4. Output in JSON format, with a list 'texts' containing each JSON object with the text id and the translated text 'translated'.\n",
    "\n",
    "### Output Format\n",
    "{{\n",
    "    \"texts\": [\n",
    "        {{\"id\": \"1\", \"translated\": \"Synthetic data is becoming increasingly important in accelerating the development of both large-scale and small-scale language models.\"}},\n",
    "        {{\"id\": \"2\", \"translated\": \"There are already several successful use cases.\"}},\n",
    "        {{\"id\": \"3\", \"translated\": \"However, researchers have discovered issues such as model collapse and imitation of other models.\"}}\n",
    "    ]\n",
    "}}\n",
    "\"\"\""
   ]
  },
  {
   "cell_type": "code",
   "execution_count": 4,
   "metadata": {},
   "outputs": [],
   "source": [
    "import json\n",
    "import time\n",
    "from openai import OpenAI\n",
    "from tqdm.auto import trange\n",
    "\n",
    "client = OpenAI(api_key=OPENAI_API_KEY)"
   ]
  },
  {
   "cell_type": "code",
   "execution_count": 5,
   "metadata": {},
   "outputs": [],
   "source": [
    "def translate(chunk):\n",
    "    response = client.chat.completions.create(\n",
    "        model=\"gpt-4o\",\n",
    "        messages = [\n",
    "            {\"role\": \"system\", \"content\": PROMPT.format(target_lang=TARGET_LANG)},\n",
    "            {\"role\": \"user\", \"content\": f\"{chunk}\"}\n",
    "        ],\n",
    "        response_format={\"type\": \"json_object\"}\n",
    "    )\n",
    "    if response.choices:\n",
    "        return json.loads(response.choices[0].message.content)[\"texts\"]"
   ]
  },
  {
   "cell_type": "code",
   "execution_count": 6,
   "metadata": {},
   "outputs": [
    {
     "data": {
      "application/vnd.jupyter.widget-view+json": {
       "model_id": "6f504b37f20446a1b4cfd02a5a87976f",
       "version_major": 2,
       "version_minor": 0
      },
      "text/plain": [
       "  0%|          | 0/1 [00:00<?, ?it/s]"
      ]
     },
     "metadata": {},
     "output_type": "display_data"
    }
   ],
   "source": [
    "translated = []\n",
    "failed = []\n",
    "\n",
    "# calculate number of requests\n",
    "iterations = len(raw_subtitles) // batch_size\n",
    "if len(raw_subtitles) % batch_size > 0:\n",
    "    iterations += 1\n",
    "\n",
    "for begin in trange(iterations):\n",
    "    tmp = raw_subtitles[begin * batch_size: begin * batch_size + batch_size]\n",
    "    try:\n",
    "        result = translate(tmp)\n",
    "        translated.extend(result)\n",
    "    except openai.RateLimitError:\n",
    "        time.sleep(60)\n",
    "        result = translate(tmp)\n",
    "        translated.extend(result)\n",
    "    except:\n",
    "        failed.extend([i[\"id\"] for i in tmp])"
   ]
  },
  {
   "cell_type": "markdown",
   "metadata": {},
   "source": [
    "# Postprocessing"
   ]
  },
  {
   "cell_type": "code",
   "execution_count": 7,
   "metadata": {},
   "outputs": [],
   "source": [
    "translated_subtitles = []\n",
    "for obj in translated:\n",
    "    tmp_time = id_to_time[obj[\"id\"]]\n",
    "    translated_subtitles.append(f\"{obj['id']}\\n{tmp_time}\\n{obj['translated']}\")"
   ]
  },
  {
   "cell_type": "code",
   "execution_count": 8,
   "metadata": {},
   "outputs": [],
   "source": [
    "# translated srt will be saved in the same directory as this notebook\n",
    "translated_fname = f\"{fname}_translated{ftype}\"\n",
    "with open(translated_fname, \"w\") as f:\n",
    "    f.write(\"\\n\\n\".join(translated_subtitles))"
   ]
  },
  {
   "cell_type": "code",
   "execution_count": 9,
   "metadata": {},
   "outputs": [
    {
     "name": "stdout",
     "output_type": "stream",
     "text": [
      "1\n",
      "00:00:01,000 --> 00:00:03,500\n",
      "Bonjour, bienvenue dans la vidéo.\n",
      "\n",
      "2\n",
      "00:00:04,000 --> 00:00:06,000\n",
      "Aujourd'hui, nous allons discuter des bases des fichiers SRT.\n",
      "\n",
      "3\n",
      "00:00:06,500 --> 00:00:09,000\n",
      "Vous apprendrez comment les créer et les formater.\n",
      "\n",
      "4\n",
      "00:00:09,500 --> 00:00:12,000\n",
      "Commençons !\n",
      "\n",
      "5\n",
      "00:00:12,500 --> 00:00:15,000\n",
      "Tout d'abord, vous avez besoin d'un éditeur de texte pour écrire votre fichier SRT.\n",
      "\n",
      "6\n",
      "00:00:15,500 --> 00:00:18,000\n",
      "Assurez-vous de l'enregistrer avec l'extension .srt.\n",
      "\n",
      "7\n",
      "00:00:18,500 --> 00:00:20,500\n",
      "Chaque entrée de sous-titre commence par un numéro.\n",
      "\n",
      "8\n",
      "00:00:21,000 --> 00:00:23,500\n",
      "Ensuite, vous avez besoin d'un code temporel pour quand le sous-titre doit apparaître.\n",
      "\n",
      "9\n",
      "00:00:24,000 --> 00:00:27,000\n",
      "Le format du code temporel est : heures:minutes:secondes,millisecondes\n",
      "\n",
      "10\n",
      "00:00:27,500 --> 00:00:30,000\n",
      "Enfin, vous écrivez le texte du sous-titre sous le code temporel.\n"
     ]
    }
   ],
   "source": [
    "# display the translated subtitles\n",
    "print(\"\\n\\n\".join(translated_subtitles))"
   ]
  },
  {
   "cell_type": "code",
   "execution_count": null,
   "metadata": {},
   "outputs": [],
   "source": []
  }
 ],
 "metadata": {
  "kernelspec": {
   "display_name": "new",
   "language": "python",
   "name": "python3"
  },
  "language_info": {
   "codemirror_mode": {
    "name": "ipython",
    "version": 3
   },
   "file_extension": ".py",
   "mimetype": "text/x-python",
   "name": "python",
   "nbconvert_exporter": "python",
   "pygments_lexer": "ipython3",
   "version": "3.10.13"
  }
 },
 "nbformat": 4,
 "nbformat_minor": 2
}
